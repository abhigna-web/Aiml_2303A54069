{
  "cells": [
    {
      "cell_type": "markdown",
      "metadata": {
        "id": "view-in-github",
        "colab_type": "text"
      },
      "source": [
        "<a href=\"https://colab.research.google.com/github/abhigna-web/Aiml_2303A54069/blob/main/Abhi_(AI).ipynb\" target=\"_parent\"><img src=\"https://colab.research.google.com/assets/colab-badge.svg\" alt=\"Open In Colab\"/></a>"
      ]
    },
    {
      "cell_type": "code",
      "source": [
        "from collections import namedtuple,Counter,defaultdict\n",
        "import random\n",
        "import math\n",
        "import functools\n",
        "cache=functools.lru_cache(10**6)"
      ],
      "metadata": {
        "id": "cfDGEUJZRfv-"
      },
      "execution_count": null,
      "outputs": []
    },
    {
      "cell_type": "code",
      "source": [
        "def actions(self,state):\n",
        "     raise NotImplementedError\n",
        "def result(self,state,move):\n",
        "     raise NotImplementedError\n",
        "def is_terminal(self,state,move):\n",
        "     raise not self.actions(state)\n",
        "def utility(self,state,player):\n",
        "     raise NotImplementedError\n",
        "\n"
      ],
      "metadata": {
        "id": "ud8ES2F7TW0G"
      },
      "execution_count": null,
      "outputs": []
    },
    {
      "cell_type": "code",
      "source": [
        "def play_game(game,opponent,verbose=False):\n",
        "     state=game.initial\n",
        "     while not game.is_terminal(state):\n",
        "          player=state.to_move\n",
        "          move=stratergies[player](game,state)\n",
        "          state=game.result(state,move)\n",
        "          if verbose:\n",
        "               print('Player',player,'move:',move)\n",
        "     return state"
      ],
      "metadata": {
        "id": "NE99I2XJUwdy"
      },
      "execution_count": null,
      "outputs": []
    },
    {
      "cell_type": "code",
      "source": [
        "def minimax_search(game,state):\n",
        "  player=state.to_move\n",
        "  def max_value(state):\n",
        "    if game.is_terminal(state):\n",
        "      return game.utility(state,player),None\n",
        "    v,move=-infinity,None\n",
        "    for a in game.actions(state):\n",
        "      v2, _=min(v,min_value(game.result(state,a)))\n",
        "      if v2>v:\n",
        "        v,move=v2,a\n",
        "    return v,move\n",
        "  return max_value(state)"
      ],
      "metadata": {
        "id": "JP2DizS0VdIj"
      },
      "execution_count": null,
      "outputs": []
    }
  ],
  "metadata": {
    "colab": {
      "provenance": [],
      "include_colab_link": true
    },
    "kernelspec": {
      "display_name": "Python 3",
      "name": "python3"
    }
  },
  "nbformat": 4,
  "nbformat_minor": 0
}